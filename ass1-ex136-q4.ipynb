{
 "cells": [
  {
   "cell_type": "code",
   "execution_count": 31,
   "id": "bd6a17c1",
   "metadata": {},
   "outputs": [],
   "source": [
    "import pandas as pd\n",
    "import numpy as np\n",
    "import matplotlib.pyplot as plt\n",
    "import random as rd\n",
    "import math"
   ]
  },
  {
   "cell_type": "code",
   "execution_count": 141,
   "id": "533b228d",
   "metadata": {},
   "outputs": [],
   "source": [
    "# Getting the data from the user\n",
    "data = [\n",
    "    28, 22, 23, 20, 12, 24, 37, 28, 21, 25,\n",
    "    21, 14, 30, 23, 27, 13, 23, 7, 26, 19, \n",
    "    24, 22, 26, 3, 21, 24, 28, 40, 27, 24,\n",
    "    20, 25, 23, 26, 47, 21, 29, 26, 22, 33,\n",
    "    27, 9, 13, 35, 20, 16, 20, 25, 18, 22\n",
    "]"
   ]
  },
  {
   "cell_type": "code",
   "execution_count": 170,
   "id": "a2268aa0",
   "metadata": {},
   "outputs": [
    {
     "name": "stdout",
     "output_type": "stream",
     "text": [
      "[5, 4, 6, 8, 8, 8, 7, 4]\n",
      "[(0, 5), [3]]\n",
      "[(6, 9), [7, 9]]\n",
      "[(10, 15), [12, 13, 13, 14]]\n",
      "[(16, 23), [16, 18, 19, 20, 20, 20, 20, 21, 21, 21, 21, 22, 22, 22, 22, 23, 23, 23, 23]]\n",
      "[(24, 31), [24, 24, 24, 24, 25, 25, 25, 26, 26, 26, 26, 27, 27, 27, 28, 28, 28, 29, 30]]\n",
      "[(32, 39), [33, 35, 37]]\n",
      "[(40, 46), [40]]\n",
      "[(47, 50), [47]]\n"
     ]
    }
   ],
   "source": [
    "def frequency_distribution(data, nc):\n",
    "    # sorting the array\n",
    "    sorted_data = sorted(data)\n",
    "    lr, hr = get_rounds(sorted_data)\n",
    "    grouped = [[i, [j for j in sorted_data if i[0] <= j <= i[1]]] for i in gen_classes(nc, lr, hr)]\n",
    "    classes = [k[0] for k in grouped]\n",
    "    freq = [len(k[1]) for k in grouped]\n",
    "    [print(g) for g in grouped]\n",
    "    fq = [classes, freq]\n",
    "    return fq\n",
    "    \n",
    "def get_rounds(data):\n",
    "    sorted_data = sorted(data)\n",
    "    lowest_round = round(sorted_data[0], -1)\n",
    "    if lowest_round > sorted_data[0]:\n",
    "        lowest_round = lowest_round - 10\n",
    "    highest_round = round(sorted_data[-1], -1)\n",
    "    return lowest_round, highest_round\n",
    "\n",
    "\n",
    "def gen_classes(nc, lr, hr):\n",
    "    bounds = hr - lr\n",
    "    mid_r = math.floor(bounds/nc)\n",
    "    class_sizes = [0]\n",
    "    while sum(class_sizes) != 50:\n",
    "        class_sizes = [rd.randint(mid_r - 2, mid_r + 2) for i in range(nc)]\n",
    "    k = []\n",
    "    curr_ind = 0\n",
    "    next_ind = 0\n",
    "    for i in class_sizes:\n",
    "        next_ind = next_ind + i\n",
    "        k.append((curr_ind, next_ind))\n",
    "        curr_ind = next_ind + 1\n",
    "    print(class_sizes)\n",
    "    return k\n",
    "    \n",
    "fq = frequency_distribution(data, 8)"
   ]
  },
  {
   "cell_type": "code",
   "execution_count": 169,
   "id": "10d5e1b2",
   "metadata": {},
   "outputs": [
    {
     "data": {
      "text/html": [
       "<div>\n",
       "<style scoped>\n",
       "    .dataframe tbody tr th:only-of-type {\n",
       "        vertical-align: middle;\n",
       "    }\n",
       "\n",
       "    .dataframe tbody tr th {\n",
       "        vertical-align: top;\n",
       "    }\n",
       "\n",
       "    .dataframe thead th {\n",
       "        text-align: right;\n",
       "    }\n",
       "</style>\n",
       "<table border=\"1\" class=\"dataframe\">\n",
       "  <thead>\n",
       "    <tr style=\"text-align: right;\">\n",
       "      <th></th>\n",
       "      <th>0</th>\n",
       "      <th>1</th>\n",
       "      <th>2</th>\n",
       "      <th>3</th>\n",
       "      <th>4</th>\n",
       "      <th>5</th>\n",
       "      <th>6</th>\n",
       "      <th>7</th>\n",
       "    </tr>\n",
       "  </thead>\n",
       "  <tbody>\n",
       "    <tr>\n",
       "      <th>0</th>\n",
       "      <td>(0, 8)</td>\n",
       "      <td>(9, 14)</td>\n",
       "      <td>(15, 19)</td>\n",
       "      <td>(20, 26)</td>\n",
       "      <td>(27, 32)</td>\n",
       "      <td>(33, 40)</td>\n",
       "      <td>(41, 45)</td>\n",
       "      <td>(46, 50)</td>\n",
       "    </tr>\n",
       "    <tr>\n",
       "      <th>1</th>\n",
       "      <td>2</td>\n",
       "      <td>5</td>\n",
       "      <td>3</td>\n",
       "      <td>27</td>\n",
       "      <td>8</td>\n",
       "      <td>4</td>\n",
       "      <td>0</td>\n",
       "      <td>1</td>\n",
       "    </tr>\n",
       "  </tbody>\n",
       "</table>\n",
       "</div>"
      ],
      "text/plain": [
       "        0        1         2         3         4         5         6         7\n",
       "0  (0, 8)  (9, 14)  (15, 19)  (20, 26)  (27, 32)  (33, 40)  (41, 45)  (46, 50)\n",
       "1       2        5         3        27         8         4         0         1"
      ]
     },
     "execution_count": 169,
     "metadata": {},
     "output_type": "execute_result"
    }
   ],
   "source": [
    "pd.DataFrame(fq)"
   ]
  },
  {
   "cell_type": "code",
   "execution_count": null,
   "id": "d422ffe1",
   "metadata": {},
   "outputs": [],
   "source": []
  }
 ],
 "metadata": {
  "kernelspec": {
   "display_name": "Python 3",
   "language": "python",
   "name": "python3"
  },
  "language_info": {
   "codemirror_mode": {
    "name": "ipython",
    "version": 3
   },
   "file_extension": ".py",
   "mimetype": "text/x-python",
   "name": "python",
   "nbconvert_exporter": "python",
   "pygments_lexer": "ipython3",
   "version": "3.9.2"
  }
 },
 "nbformat": 4,
 "nbformat_minor": 5
}